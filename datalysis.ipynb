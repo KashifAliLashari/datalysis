{
  "nbformat": 4,
  "nbformat_minor": 0,
  "metadata": {
    "colab": {
      "provenance": [],
      "authorship_tag": "ABX9TyNwjF23nb4KLM6P9zlQRRL6",
      "include_colab_link": true
    },
    "kernelspec": {
      "name": "python3",
      "display_name": "Python 3"
    },
    "language_info": {
      "name": "python"
    }
  },
  "cells": [
    {
      "cell_type": "markdown",
      "metadata": {
        "id": "view-in-github",
        "colab_type": "text"
      },
      "source": [
        "<a href=\"https://colab.research.google.com/github/KashifAliLashari/datalysis/blob/main/datalysis.ipynb\" target=\"_parent\"><img src=\"https://colab.research.google.com/assets/colab-badge.svg\" alt=\"Open In Colab\"/></a>"
      ]
    },
    {
      "cell_type": "code",
      "execution_count": null,
      "metadata": {
        "id": "_aa6Gg9WPDMx"
      },
      "outputs": [],
      "source": [
        "import streamlit as st\n",
        "import pandas as pd\n",
        "import matplotlib.pyplot as plt\n",
        "import seaborn as sns\n",
        "import plotly.express as px\n",
        "import io\n",
        "\n",
        "# Set page title\n",
        "st.set_page_config(page_title=\"Dataset Visualizer\")\n",
        "\n",
        "# Title\n",
        "st.title(\"Dataset Visualizer\")\n",
        "\n",
        "# File uploader\n",
        "uploaded_file = st.file_uploader(\"Choose a CSV file\", type=\"csv\")\n",
        "\n",
        "# Function to check file size\n",
        "def check_file_size(file):\n",
        "    max_size = 1 * 1024 * 1024  # 1 MB\n",
        "    file.seek(0, 2)\n",
        "    file_size = file.tell()\n",
        "    file.seek(0)\n",
        "    if file_size > max_size:\n",
        "        st.error(f\"File size exceeds the limit of 1 MB. Your file is {file_size / 1024 / 1024:.2f} MB.\")\n",
        "        return False\n",
        "    return True\n",
        "\n",
        "# Main app logic\n",
        "if uploaded_file is not None:\n",
        "    if check_file_size(uploaded_file):\n",
        "        # Read the CSV file\n",
        "        df = pd.read_csv(uploaded_file)\n",
        "\n",
        "        # Display basic information about the dataset\n",
        "        st.write(\"Dataset Info:\")\n",
        "        st.write(f\"Number of rows: {df.shape[0]}\")\n",
        "        st.write(f\"Number of columns: {df.shape[1]}\")\n",
        "\n",
        "        # Visualization options\n",
        "        viz_option = st.radio(\n",
        "            \"Choose a visualization:\",\n",
        "            (\"Data Overview\", \"Correlation Heatmap\", \"Distribution Plot\", \"Scatter Plot\")\n",
        "        )\n",
        "\n",
        "        if st.button(\"Generate Visualization\"):\n",
        "            if viz_option == \"Data Overview\":\n",
        "                st.write(df.describe())\n",
        "                fig, ax = plt.subplots(figsize=(10, 6))\n",
        "                df.plot(kind='box', ax=ax)\n",
        "                st.pyplot(fig)\n",
        "\n",
        "            elif viz_option == \"Correlation Heatmap\":\n",
        "                fig, ax = plt.subplots(figsize=(10, 8))\n",
        "                sns.heatmap(df.corr(), annot=True, cmap='coolwarm', ax=ax)\n",
        "                st.pyplot(fig)\n",
        "\n",
        "            elif viz_option == \"Distribution Plot\":\n",
        "                numeric_cols = df.select_dtypes(include=['float64', 'int64']).columns\n",
        "                selected_col = st.selectbox(\"Select a numeric column:\", numeric_cols)\n",
        "                fig = px.histogram(df, x=selected_col, marginal=\"box\")\n",
        "                st.plotly_chart(fig)\n",
        "\n",
        "            elif viz_option == \"Scatter Plot\":\n",
        "                numeric_cols = df.select_dtypes(include=['float64', 'int64']).columns\n",
        "                x_col = st.selectbox(\"Select X-axis:\", numeric_cols)\n",
        "                y_col = st.selectbox(\"Select Y-axis:\", numeric_cols)\n",
        "                fig = px.scatter(df, x=x_col, y=y_col, trendline=\"ols\")\n",
        "                st.plotly_chart(fig)\n",
        "\n",
        "            # Download option\n",
        "            buf = io.BytesIO()\n",
        "            plt.savefig(buf, format='png')\n",
        "            btn = st.download_button(\n",
        "                label=\"Download Visualization\",\n",
        "                data=buf,\n",
        "                file_name=\"visualization.png\",\n",
        "                mime=\"image/png\"\n",
        "            )\n",
        "\n",
        "else:\n",
        "    st.write(\"Please upload a CSV file to begin.\")"
      ]
    }
  ]
}